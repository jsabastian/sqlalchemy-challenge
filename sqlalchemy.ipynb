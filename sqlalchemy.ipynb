{
 "cells": [
  {
   "cell_type": "code",
   "execution_count": 1,
   "metadata": {},
   "outputs": [],
   "source": [
    "# Import dependencies\n",
    "%matplotlib inline\n",
    "from matplotlib import style\n",
    "style.use('fivethirtyeight')\n",
    "import matplotlib.pyplot as plt\n",
    "import numpy as np\n",
    "import scipy.stats as stats\n",
    "import pandas as pd\n",
    "import datetime as dt"
   ]
  },
  {
   "cell_type": "markdown",
   "metadata": {},
   "source": [
    "# Reflect Tables into SQLAlchemy ORM"
   ]
  },
  {
   "cell_type": "code",
   "execution_count": 2,
   "metadata": {},
   "outputs": [],
   "source": [
    "# # Python SQL toolkit and Object Relational Mapper\n",
    "\n",
    "import sqlalchemy\n",
    "from sqlalchemy.ext.automap import automap_base\n",
    "from sqlalchemy.orm import Session\n",
    "from sqlalchemy import create_engine, inspect, func"
   ]
  },
  {
   "cell_type": "code",
   "execution_count": 3,
   "metadata": {},
   "outputs": [],
   "source": [
    "engine = create_engine(\"sqlite:///Resources/hawaii.sqlite\")"
   ]
  },
  {
   "cell_type": "code",
   "execution_count": 4,
   "metadata": {},
   "outputs": [],
   "source": [
    "# reflect an existing database into a new model\n",
    "base = automap_base()\n",
    "# reflect the tables\n",
    "base.prepare(engine, reflect=True)"
   ]
  },
  {
   "cell_type": "code",
   "execution_count": 5,
   "metadata": {},
   "outputs": [
    {
     "data": {
      "text/plain": [
       "['measurement', 'station']"
      ]
     },
     "execution_count": 5,
     "metadata": {},
     "output_type": "execute_result"
    }
   ],
   "source": [
    "# We can view all of the classes that automap found\n",
    "base.classes.keys()"
   ]
  },
  {
   "cell_type": "code",
   "execution_count": 6,
   "metadata": {},
   "outputs": [],
   "source": [
    "# Save references to each table\n",
    "measurements = base.classes.measurement\n",
    "stations = base.classes.station"
   ]
  },
  {
   "cell_type": "code",
   "execution_count": 7,
   "metadata": {},
   "outputs": [],
   "source": [
    "# Create our session (link) from Python to the DB\n",
    "session = Session(bind=engine)"
   ]
  },
  {
   "cell_type": "markdown",
   "metadata": {},
   "source": [
    "# Exploratory Climate Analysis\n"
   ]
  },
  {
   "cell_type": "code",
   "execution_count": null,
   "metadata": {},
   "outputs": [],
   "source": [
    "#Design a query to retrieve the last 12 months of precipitation data and plot the results\n",
    "\n",
    "# Calculate the date 1 year ago from the last data point in the database\n",
    "\n",
    "# since session.query returns a tuple, we use [0][0] to get the value at the first entry\n",
    "\n",
    "# and datetime.strptime to convert it to a datetime object \n",
    "\n",
    "# and subtract a year from it with dt.timedelta\n",
    "\n",
    "date_max = dt.datetime.strptime(session.query(func.max(measurements.date))[0][0],'%Y-%m-%d')\n",
    "\n",
    "prior_year = date_max - dt.timedelta(days=365)\n",
    "\n",
    "# Perform a query to retrieve the data and precipitation scores\n",
    "\n",
    "precip_df = session.query(measurements.prcp, measurements.date).filter(measurements.date >= prior_year)\n",
    "\n",
    "# Save the query results as a Pandas DataFrame\n",
    "\n",
    "precip_df = pd.DataFrame(precip_df)\n",
    "\n",
    "# Rename columns to capitalize axis labels\n",
    "\n",
    "precip_df = precip_df.rename(columns = {\"date\":\"Date\",\"prcp\":\"Precipitation\"})\n",
    "\n",
    "# Sort the dataframe by date\n",
    "\n",
    "precip_df = precip_df.sort_values(by=\"Date\")\n",
    "\n",
    "# Set the index to the date column\n",
    "\n",
    "precip_df = precip_df.set_index(\"Date\")\n",
    "\n",
    "# Write Database to CSV for access from app.py later\n",
    "\n",
    "precip_df.to_csv(\"Resources/precip_df.csv\")\n",
    "\n",
    "# Use Pandas Plotting with Matplotlib to plot the data\n",
    "\n",
    "precip_df.plot(rot=45,figsize=(15,5))\n",
    "plt.title(\"Recent Precipitation (12 months)\")\n",
    "plt.ylabel(\"Precipitation (in.)\")"
   ]
  },
  {
   "cell_type": "code",
   "execution_count": null,
   "metadata": {},
   "outputs": [],
   "source": []
  },
  {
   "cell_type": "code",
   "execution_count": null,
   "metadata": {},
   "outputs": [],
   "source": [
    "# Design a query to show how many stations are available in this dataset?\n",
    "station_count = session.query(stations.station).count()\n",
    "print(f\"This dataset contains {station_count} unique stations.\")"
   ]
  },
  {
   "cell_type": "code",
   "execution_count": null,
   "metadata": {},
   "outputs": [],
   "source": [
    "# What are the most active stations? (i.e. what stations have the most rows)?\n",
    "# List the stations and the counts in descending order.\n",
    "station_count = session.query(stations.station, stations.name, func.count(measurements.station)).\\\n",
    "    filter(measurements.station == stations\n",
    ".station).\\\n",
    "    group_by(measurements.station).\\\n",
    "    order_by(func.count(measurements.station).desc())\n",
    "station_count_df = pd.DataFrame(station_count, columns = [\"Station ID\",\"Station Name\",\"Activity Count\"])\n",
    "\n",
    "station_count_df.to_csv(\"Resources/station_count.csv\")\n",
    "station_count_df"
   ]
  },
  {
   "cell_type": "code",
   "execution_count": null,
   "metadata": {},
   "outputs": [],
   "source": [
    "# Using the station id from the previous query, calculate the lowest temperature recorded, \n",
    "# highest temperature recorded, and average temperature of the most active station\n",
    "selected = [func.min(measurements.tobs), func.max(measurements.tobs), func.avg(measurements.tobs), func.count(measurements.tobs)]\n",
    "temps = session.query(*selected).\\\n",
    "    filter(measurements.station == 'USC00519281')\n",
    "    \n",
    "for rec in temps:\n",
    "    print(f\"For Station USC00519281:\")\n",
    "    print(f\"Min Temprature is: {rec[0]}\")\n",
    "    print(f\"Max Temprature is: {rec[1]}\")\n",
    "    print(f\"Average Temprature is: {round(rec[2], 1)}\")"
   ]
  },
  {
   "cell_type": "code",
   "execution_count": null,
   "metadata": {},
   "outputs": [],
   "source": [
    "# Choose the station with the highest number of temperature observations.\n",
    "# Query the last 12 months of temperature observation data for this station and plot the results as a histogram\n",
    "high_temps = session.query(measurements.tobs,measurements.date).\\\n",
    "    filter(measurements.date >= prior_year).\\\n",
    "        filter(measurements.station == 'USC00519281').\\\n",
    "            order_by(measurements.date.asc()).\\\n",
    "                all()\n",
    "# turn query into a dataframe\n",
    "\n",
    "high_temps_df = pd.DataFrame(high_temps).set_index('date').sort_index(ascending=True)\n",
    "\n",
    "high_temps_df.to_csv(\"Resources/high_temps.csv\")\n",
    "\n",
    "# plot the dataframe\n",
    "\n",
    "high_temps_df.plot(kind='hist',bins=12,color = \"salmon\")\n",
    "plt.title(f\"Frequency of Temperatures at Station USC00519281\")\n",
    "plt.ylabel('Frequency')\n",
    "plt.xlabel('Temperature (F)')\n"
   ]
  },
  {
   "cell_type": "code",
   "execution_count": null,
   "metadata": {},
   "outputs": [],
   "source": []
  }
 ],
 "metadata": {
  "kernelspec": {
   "display_name": "Python 3",
   "language": "python",
   "name": "python3"
  },
  "language_info": {
   "codemirror_mode": {
    "name": "ipython",
    "version": 3
   },
   "file_extension": ".py",
   "mimetype": "text/x-python",
   "name": "python",
   "nbconvert_exporter": "python",
   "pygments_lexer": "ipython3",
   "version": "3.8.2"
  }
 },
 "nbformat": 4,
 "nbformat_minor": 4
}
